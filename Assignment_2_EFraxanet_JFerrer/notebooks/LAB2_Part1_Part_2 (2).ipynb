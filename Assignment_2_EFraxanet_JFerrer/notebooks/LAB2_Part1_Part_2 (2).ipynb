{
 "cells": [
  {
   "cell_type": "code",
   "execution_count": 12,
   "metadata": {
    "id": "qUgJ3E9v1ObU"
   },
   "outputs": [],
   "source": [
    "import numpy as np\n",
    "import matplotlib.pyplot as plt\n",
    "from sklearn.datasets import load_svmlight_file\n",
    "from sklearn import tree\n",
    "from sklearn.datasets import load_iris\n",
    "from sklearn.tree import DecisionTreeClassifier\n",
    "from sklearn.tree import export_text\n",
    "import graphviz \n",
    "import sklearn.model_selection as model_selection\n",
    "from matplotlib import colors\n",
    "from sklearn.svm import SVC\n",
    "from sklearn import svm"
   ]
  },
  {
   "cell_type": "markdown",
   "metadata": {
    "id": "xAiuSiIu1g7t"
   },
   "source": [
    "# Decision Trees\n",
    "For decision trees we use: scikit-learn.org/stable/modules/tree.html\n"
   ]
  },
  {
   "cell_type": "code",
   "execution_count": 2,
   "metadata": {
    "id": "bfx9wy4N1g7u",
    "outputId": "47954286-f800-4b07-87b4-de89b1f75cde",
    "scrolled": false
   },
   "outputs": [
    {
     "name": "stdout",
     "output_type": "stream",
     "text": [
      "Total classification error. Tree 1: 0.096 Tree 2: 0.084\n"
     ]
    }
   ],
   "source": [
    "\n",
    "#Loading data sets\n",
    "X,Y = load_svmlight_file(\"../datasets/gisette_scale.bz2\")\n",
    "test_X,test_Y = load_svmlight_file(\"../datasets/gisette_scale.t.bz2\")\n",
    "\n",
    "\n",
    "#Partition: each new training set is half of the original\n",
    "X_1, X_2, y_1, y_2 = model_selection.train_test_split(X, Y, test_size=0.5, random_state=1)\n",
    "\n",
    "\n",
    "#Calling the function, training the first tree: Note we don't use maximum depth\n",
    "clf = tree.DecisionTreeClassifier()\n",
    "clf_1 = clf.fit(X_1, y_1)\n",
    "\n",
    "#Total classification error: 1 - accuracy\n",
    "error_1 = 1- clf_1.score(test_X, test_Y)\n",
    "\n",
    "\n",
    "#Plotting the first tree\n",
    "dot_data_1 = tree.export_graphviz(clf_1, out_file=None,  \n",
    "                      filled=True, rounded=True,  \n",
    "                      special_characters=True)  \n",
    "graph_1 = graphviz.Source(dot_data_1)  \n",
    "graph_1.render(\"tree1\") \n",
    "                \n",
    "                \n",
    "#Repeat all for the second tree\n",
    "clf_2 = clf.fit(X_2, y_2)\n",
    "error_2 = 1- clf_2.score(test_X,test_Y)\n",
    "\n",
    "dot_data_2 = tree.export_graphviz(clf_2, out_file=None,  \n",
    "                      filled=True, rounded=True,  \n",
    "                      special_characters=True)  \n",
    "graph_2 = graphviz.Source(dot_data_2)  \n",
    "graph_2.render(\"tree2\") \n",
    "\n",
    "\n",
    "\n",
    "print(\"Total classification error. Tree 1: %0.3f Tree 2: %0.3f\" % (error_1,error_2))"
   ]
  },
  {
   "cell_type": "markdown",
   "metadata": {
    "id": "7V19AmgI1g7x"
   },
   "source": [
    "APPPLYING MAXIMUM DEPTH:"
   ]
  },
  {
   "cell_type": "code",
   "execution_count": 3,
   "metadata": {
    "id": "ZzLxnB0h1g7x",
    "outputId": "4046a4e6-bc3c-473e-b7a6-e7a67a6ee317"
   },
   "outputs": [
    {
     "name": "stdout",
     "output_type": "stream",
     "text": [
      "Total classification error. Tree 3: 0.092 Tree 4: 0.089\n"
     ]
    }
   ],
   "source": [
    "#We apply the same partition as before (same random state allows reproducible results)\n",
    "X_3, X_4, y_3, y_4 = model_selection.train_test_split(X, Y, test_size=0.5, random_state=1)\n",
    "\n",
    "\n",
    "#We train and plot the third tree. Note: Now we use maximum depth=4\n",
    "clf = tree.DecisionTreeClassifier(max_depth=4)\n",
    "clf_3 = clf.fit(X_3, y_3)\n",
    "error_3 =1- clf_3.score(test_X, test_Y)\n",
    "\n",
    "dot_data_3 = tree.export_graphviz(clf_3, out_file=None,  \n",
    "                      filled=True, rounded=True,  \n",
    "                      special_characters=True)  \n",
    "graph_3 = graphviz.Source(dot_data_3)  \n",
    "graph_3.render(\"tree3\") \n",
    "                \n",
    "                \n",
    "#Training and plotting fourth tree\n",
    "clf_4 = clf.fit(X_4, y_4)\n",
    "error_4 = 1-clf_4.score(test_X,test_Y)\n",
    "\n",
    "dot_data_4 = tree.export_graphviz(clf_4, out_file=None,  \n",
    "                      filled=True, rounded=True,  \n",
    "                      special_characters=True)  \n",
    "graph_4 = graphviz.Source(dot_data_4)  \n",
    "graph_4.render(\"tree4\") \n",
    "\n",
    "\n",
    "\n",
    "print(\"Total classification error. Tree 3: %0.3f Tree 4: %0.3f\" % (error_3,error_4))"
   ]
  },
  {
   "cell_type": "markdown",
   "metadata": {
    "id": "jJRWEwUE1g70"
   },
   "source": [
    "# SVMs\n",
    "\n",
    "For SVMs we use: scikit-learn.org/stable/modules/svm.html\n"
   ]
  },
  {
   "cell_type": "code",
   "execution_count": 8,
   "metadata": {
    "id": "IEBqYP_K1g73",
    "outputId": "89a24bcf-ae7a-48ed-99bb-4400a17004d7"
   },
   "outputs": [
    {
     "name": "stderr",
     "output_type": "stream",
     "text": [
      "C:\\Users\\emmaf\\Anaconda3\\lib\\site-packages\\sklearn\\model_selection\\_split.py:1978: FutureWarning: The default value of cv will change from 3 to 5 in version 0.22. Specify it explicitly to silence this warning.\n",
      "  warnings.warn(CV_WARNING, FutureWarning)\n"
     ]
    },
    {
     "name": "stdout",
     "output_type": "stream",
     "text": [
      "Best parameters: {'C': 10.0, 'gamma': 0.0001, 'kernel': 'rbf'}, accuracy: 0.964\n"
     ]
    }
   ],
   "source": [
    "#Loading the data: training and testing sets\n",
    "X,y = load_svmlight_file(\"../datasets/gisette_scale.bz2\")\n",
    "test_X,test_Y = load_svmlight_file(\"../datasets/gisette_scale.t.bz2\")\n",
    "\n",
    "#We partition the training set in order to obtain a few values(20%) for the study of the cross validation error\n",
    "X_crossval, X_2, y_crossval, y_2 = model_selection.train_test_split(X, y, test_size=0.8, random_state=1)\n",
    "\n",
    "\n",
    "#Define ranges for the parameters, we use logarithmic ranges\n",
    "c_range = np.logspace(-2,9,12)\n",
    "gamma_range = np.logspace(-12,-1,12)\n",
    "\n",
    "#Define parameters for the grid search\n",
    "parameters = [{'kernel': ['rbf'], 'gamma': gamma_range,'C': c_range}]\n",
    "\n",
    "#Apply grid search\n",
    "clf = model_selection.GridSearchCV(SVC(), parameters, scoring='accuracy')\n",
    "clf.fit(X_crossval, y_crossval)\n",
    "\n",
    "\n",
    "#Provide the combination of parameters that minimizes the error\n",
    "print(\"Best parameters: %s, accuracy: %0.3f\"\n",
    "      % (clf.best_params_, clf.best_score_))"
   ]
  },
  {
   "cell_type": "code",
   "execution_count": 11,
   "metadata": {
    "id": "h3pgABww1g75",
    "outputId": "afdb0f4c-95a5-4dc8-dc5c-9fd4df3ad7bc"
   },
   "outputs": [
    {
     "data": {
      "image/png": "[encoded data removed]",
      "text/plain": [
       "<Figure size 576x432 with 2 Axes>"
      ]
     },
     "metadata": {
      "needs_background": "light"
     },
     "output_type": "display_data"
    },
    {
     "data": {
      "text/plain": [
       "<Figure size 432x288 with 0 Axes>"
      ]
     },
     "metadata": {},
     "output_type": "display_data"
    }
   ],
   "source": [
    "# Plotting the heatmap for the grid search\n",
    "\n",
    "\n",
    "#Shape array of results\n",
    "scores = clf.cv_results_['mean_test_score'].reshape(len(c_range),len(gamma_range))\n",
    "\n",
    "#In order to re-arrange the color variation near the more populated points\n",
    "divnorm = colors.DivergingNorm(vmin=0.55, vcenter=0.959)\n",
    "\n",
    "#Set plot\n",
    "plt.figure(figsize=(8, 6))\n",
    "plt.imshow(scores, interpolation='nearest', cmap=plt.cm.hot,norm=divnorm)\n",
    "plt.title('Cross-Validation accuracy')\n",
    "plt.xlabel('Gamma')\n",
    "plt.ylabel('C')\n",
    "clrb=plt.colorbar()\n",
    "clrb.set_label('Accuracy')\n",
    "plt.xticks(np.arange(len(gamma_range)), gamma_range, rotation=45)\n",
    "plt.yticks(np.arange(len(c_range)), c_range)\n",
    "plt.show()"
   ]
  },
  {
   "cell_type": "code",
   "execution_count": 7,
   "metadata": {
    "id": "-FWKOVUS1g7-",
    "outputId": "bd7b4f79-8bd8-479a-b389-8a888a0602d2"
   },
   "outputs": [
    {
     "name": "stdout",
     "output_type": "stream",
     "text": [
      "Total classification error: 0.022\n"
     ]
    }
   ],
   "source": [
    "#We take the best combination of parameters\n",
    "good_gamma=clf.best_params_['gamma']\n",
    "good_c = clf.best_params_['C']\n",
    "\n",
    "\n",
    "#We run the SVM with the best parameters on the testing set and obtain the accuracy and error\n",
    "svm_model = svm.SVC(kernel='rbf',C= good_c, gamma= good_gamma)\n",
    "svm_model = svm_model.fit(X, y)\n",
    "accuracy = svm_model.score(test_X,test_Y)\n",
    "error = 1- accuracy\n",
    "\n",
    "print(\"Total classification error: %0.3f\" % error)"
   ]
  }
 ],
 "metadata": {
  "colab": {
   "collapsed_sections": [],
   "name": "LAB2_Josep.ipynb",
   "provenance": []
  },
  "kernelspec": {
   "display_name": "Python 3",
   "language": "python",
   "name": "python3"
  },
  "language_info": {
   "codemirror_mode": {
    "name": "ipython",
    "version": 3
   },
   "file_extension": ".py",
   "mimetype": "text/x-python",
   "name": "python",
   "nbconvert_exporter": "python",
   "pygments_lexer": "ipython3",
   "version": "3.7.4"
  }
 },
 "nbformat": 4,
 "nbformat_minor": 1
}
